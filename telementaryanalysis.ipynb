{
 "cells": [
  {
   "cell_type": "code",
   "execution_count": 1,
   "metadata": {},
   "outputs": [
    {
     "name": "stderr",
     "output_type": "stream",
     "text": [
      "c:\\Users\\shrey\\anaconda3\\Lib\\site-packages\\pandas\\core\\arrays\\masked.py:60: UserWarning: Pandas requires version '1.3.6' or newer of 'bottleneck' (version '1.3.5' currently installed).\n",
      "  from pandas.core import (\n"
     ]
    }
   ],
   "source": [
    "import fastf1"
   ]
  },
  {
   "cell_type": "code",
   "execution_count": 2,
   "metadata": {},
   "outputs": [
    {
     "name": "stdout",
     "output_type": "stream",
     "text": [
      "    RoundNumber        Country           Location  \\\n",
      "0             0        Bahrain             Sakhir   \n",
      "1             1        Bahrain             Sakhir   \n",
      "2             2   Saudi Arabia             Jeddah   \n",
      "3             3      Australia          Melbourne   \n",
      "4             4     Azerbaijan               Baku   \n",
      "5             5  United States              Miami   \n",
      "6             6         Monaco             Monaco   \n",
      "7             7          Spain          Barcelona   \n",
      "8             8         Canada           Montréal   \n",
      "9             9        Austria          Spielberg   \n",
      "10           10  Great Britain        Silverstone   \n",
      "11           11        Hungary           Budapest   \n",
      "12           12        Belgium  Spa-Francorchamps   \n",
      "13           13    Netherlands          Zandvoort   \n",
      "14           14          Italy              Monza   \n",
      "15           15      Singapore         Marina Bay   \n",
      "16           16          Japan             Suzuka   \n",
      "17           17          Qatar             Lusail   \n",
      "18           18  United States             Austin   \n",
      "19           19         Mexico        Mexico City   \n",
      "20           20         Brazil          São Paulo   \n",
      "21           21  United States          Las Vegas   \n",
      "22           22      Abu Dhabi         Yas Island   \n",
      "\n",
      "                                    OfficialEventName  EventDate  \\\n",
      "0            FORMULA 1 ARAMCO PRE-SEASON TESTING 2023 2023-02-25   \n",
      "1          FORMULA 1 GULF AIR BAHRAIN GRAND PRIX 2023 2023-03-05   \n",
      "2         FORMULA 1 STC SAUDI ARABIAN GRAND PRIX 2023 2023-03-19   \n",
      "3          FORMULA 1 ROLEX AUSTRALIAN GRAND PRIX 2023 2023-04-02   \n",
      "4                FORMULA 1 AZERBAIJAN GRAND PRIX 2023 2023-04-30   \n",
      "5          FORMULA 1 CRYPTO.COM MIAMI GRAND PRIX 2023 2023-05-07   \n",
      "6                 FORMULA 1 GRAND PRIX DE MONACO 2023 2023-05-28   \n",
      "7            FORMULA 1 AWS GRAN PREMIO DE ESPAÑA 2023 2023-06-04   \n",
      "8         FORMULA 1 PIRELLI GRAND PRIX DU CANADA 2023 2023-06-18   \n",
      "9   FORMULA 1 ROLEX GROSSER PREIS VON ÖSTERREICH 2023 2023-07-02   \n",
      "10           FORMULA 1 ARAMCO BRITISH GRAND PRIX 2023 2023-07-09   \n",
      "11  FORMULA 1 QATAR AIRWAYS HUNGARIAN GRAND PRIX 2023 2023-07-23   \n",
      "12      FORMULA 1 MSC CRUISES BELGIAN GRAND PRIX 2023 2023-07-30   \n",
      "13           FORMULA 1 HEINEKEN DUTCH GRAND PRIX 2023 2023-08-27   \n",
      "14       FORMULA 1 PIRELLI GRAN PREMIO D’ITALIA 2023  2023-09-03   \n",
      "15  FORMULA 1 SINGAPORE AIRLINES SINGAPORE GRAND P... 2023-09-17   \n",
      "16         FORMULA 1 LENOVO JAPANESE GRAND PRIX 2023  2023-09-24   \n",
      "17      FORMULA 1 QATAR AIRWAYS QATAR GRAND PRIX 2023 2023-10-08   \n",
      "18     FORMULA 1 LENOVO UNITED STATES GRAND PRIX 2023 2023-10-22   \n",
      "19  FORMULA 1 GRAN PREMIO DE LA CIUDAD DE MÉXICO 2023 2023-10-29   \n",
      "20    FORMULA 1 ROLEX GRANDE PRÊMIO DE SÃO PAULO 2023 2023-11-05   \n",
      "21  FORMULA 1 HEINEKEN SILVER LAS VEGAS GRAND PRIX... 2023-11-18   \n",
      "22  FORMULA 1 ETIHAD AIRWAYS ABU DHABI GRAND PRIX ... 2023-11-26   \n",
      "\n",
      "                   EventName      EventFormat    Session1  \\\n",
      "0         Pre-Season Testing          testing  Practice 1   \n",
      "1         Bahrain Grand Prix     conventional  Practice 1   \n",
      "2   Saudi Arabian Grand Prix     conventional  Practice 1   \n",
      "3      Australian Grand Prix     conventional  Practice 1   \n",
      "4      Azerbaijan Grand Prix  sprint_shootout  Practice 1   \n",
      "5           Miami Grand Prix     conventional  Practice 1   \n",
      "6          Monaco Grand Prix     conventional  Practice 1   \n",
      "7         Spanish Grand Prix     conventional  Practice 1   \n",
      "8        Canadian Grand Prix     conventional  Practice 1   \n",
      "9        Austrian Grand Prix  sprint_shootout  Practice 1   \n",
      "10        British Grand Prix     conventional  Practice 1   \n",
      "11      Hungarian Grand Prix     conventional  Practice 1   \n",
      "12        Belgian Grand Prix  sprint_shootout  Practice 1   \n",
      "13          Dutch Grand Prix     conventional  Practice 1   \n",
      "14        Italian Grand Prix     conventional  Practice 1   \n",
      "15      Singapore Grand Prix     conventional  Practice 1   \n",
      "16       Japanese Grand Prix     conventional  Practice 1   \n",
      "17          Qatar Grand Prix  sprint_shootout  Practice 1   \n",
      "18  United States Grand Prix  sprint_shootout  Practice 1   \n",
      "19    Mexico City Grand Prix     conventional  Practice 1   \n",
      "20      São Paulo Grand Prix  sprint_shootout  Practice 1   \n",
      "21      Las Vegas Grand Prix     conventional  Practice 1   \n",
      "22      Abu Dhabi Grand Prix     conventional  Practice 1   \n",
      "\n",
      "                 Session1Date     Session1DateUtc  ...         Session3  \\\n",
      "0   2023-02-23 10:00:00+03:00 2023-02-23 07:00:00  ...       Practice 3   \n",
      "1   2023-03-03 14:30:00+03:00 2023-03-03 11:30:00  ...       Practice 3   \n",
      "2   2023-03-17 16:30:00+03:00 2023-03-17 13:30:00  ...       Practice 3   \n",
      "3   2023-03-31 12:30:00+10:00 2023-03-31 02:30:00  ...       Practice 3   \n",
      "4   2023-04-28 13:30:00+04:00 2023-04-28 09:30:00  ...  Sprint Shootout   \n",
      "5   2023-05-05 14:00:00-04:00 2023-05-05 18:00:00  ...       Practice 3   \n",
      "6   2023-05-26 13:30:00+02:00 2023-05-26 11:30:00  ...       Practice 3   \n",
      "7   2023-06-02 13:30:00+02:00 2023-06-02 11:30:00  ...       Practice 3   \n",
      "8   2023-06-16 13:30:00-04:00 2023-06-16 17:30:00  ...       Practice 3   \n",
      "9   2023-06-30 13:30:00+02:00 2023-06-30 11:30:00  ...  Sprint Shootout   \n",
      "10  2023-07-07 12:30:00+01:00 2023-07-07 11:30:00  ...       Practice 3   \n",
      "11  2023-07-21 13:30:00+02:00 2023-07-21 11:30:00  ...       Practice 3   \n",
      "12  2023-07-28 13:30:00+02:00 2023-07-28 11:30:00  ...  Sprint Shootout   \n",
      "13  2023-08-25 12:30:00+02:00 2023-08-25 10:30:00  ...       Practice 3   \n",
      "14  2023-09-01 13:30:00+02:00 2023-09-01 11:30:00  ...       Practice 3   \n",
      "15  2023-09-15 17:30:00+08:00 2023-09-15 09:30:00  ...       Practice 3   \n",
      "16  2023-09-22 11:30:00+09:00 2023-09-22 02:30:00  ...       Practice 3   \n",
      "17  2023-10-06 16:30:00+03:00 2023-10-06 13:30:00  ...  Sprint Shootout   \n",
      "18  2023-10-20 12:30:00-05:00 2023-10-20 17:30:00  ...  Sprint Shootout   \n",
      "19  2023-10-27 12:30:00-06:00 2023-10-27 18:30:00  ...       Practice 3   \n",
      "20  2023-11-03 11:30:00-03:00 2023-11-03 14:30:00  ...  Sprint Shootout   \n",
      "21  2023-11-16 20:30:00-08:00 2023-11-17 04:30:00  ...       Practice 3   \n",
      "22  2023-11-24 13:30:00+04:00 2023-11-24 09:30:00  ...       Practice 3   \n",
      "\n",
      "                 Session3Date     Session3DateUtc    Session4  \\\n",
      "0   2023-02-25 10:00:00+03:00 2023-02-25 07:00:00        None   \n",
      "1   2023-03-04 14:30:00+03:00 2023-03-04 11:30:00  Qualifying   \n",
      "2   2023-03-18 16:30:00+03:00 2023-03-18 13:30:00  Qualifying   \n",
      "3   2023-04-01 12:30:00+10:00 2023-04-01 02:30:00  Qualifying   \n",
      "4   2023-04-29 12:30:00+04:00 2023-04-29 08:30:00      Sprint   \n",
      "5   2023-05-06 12:30:00-04:00 2023-05-06 16:30:00  Qualifying   \n",
      "6   2023-05-27 12:30:00+02:00 2023-05-27 10:30:00  Qualifying   \n",
      "7   2023-06-03 12:30:00+02:00 2023-06-03 10:30:00  Qualifying   \n",
      "8   2023-06-17 12:30:00-04:00 2023-06-17 16:30:00  Qualifying   \n",
      "9   2023-07-01 12:00:00+02:00 2023-07-01 10:00:00      Sprint   \n",
      "10  2023-07-08 11:30:00+01:00 2023-07-08 10:30:00  Qualifying   \n",
      "11  2023-07-22 12:30:00+02:00 2023-07-22 10:30:00  Qualifying   \n",
      "12  2023-07-29 12:00:00+02:00 2023-07-29 10:00:00      Sprint   \n",
      "13  2023-08-26 11:30:00+02:00 2023-08-26 09:30:00  Qualifying   \n",
      "14  2023-09-02 12:30:00+02:00 2023-09-02 10:30:00  Qualifying   \n",
      "15  2023-09-16 17:30:00+08:00 2023-09-16 09:30:00  Qualifying   \n",
      "16  2023-09-23 11:30:00+09:00 2023-09-23 02:30:00  Qualifying   \n",
      "17  2023-10-07 16:20:00+03:00 2023-10-07 13:20:00      Sprint   \n",
      "18  2023-10-21 12:30:00-05:00 2023-10-21 17:30:00      Sprint   \n",
      "19  2023-10-28 11:30:00-06:00 2023-10-28 17:30:00  Qualifying   \n",
      "20  2023-11-04 11:00:00-03:00 2023-11-04 14:00:00      Sprint   \n",
      "21  2023-11-17 20:30:00-08:00 2023-11-18 04:30:00  Qualifying   \n",
      "22  2023-11-25 14:30:00+04:00 2023-11-25 10:30:00  Qualifying   \n",
      "\n",
      "                 Session4Date     Session4DateUtc Session5  \\\n",
      "0                         NaT                 NaT     None   \n",
      "1   2023-03-04 18:00:00+03:00 2023-03-04 15:00:00     Race   \n",
      "2   2023-03-18 20:00:00+03:00 2023-03-18 17:00:00     Race   \n",
      "3   2023-04-01 16:00:00+10:00 2023-04-01 06:00:00     Race   \n",
      "4   2023-04-29 17:30:00+04:00 2023-04-29 13:30:00     Race   \n",
      "5   2023-05-06 16:00:00-04:00 2023-05-06 20:00:00     Race   \n",
      "6   2023-05-27 16:00:00+02:00 2023-05-27 14:00:00     Race   \n",
      "7   2023-06-03 16:00:00+02:00 2023-06-03 14:00:00     Race   \n",
      "8   2023-06-17 16:00:00-04:00 2023-06-17 20:00:00     Race   \n",
      "9   2023-07-01 16:30:00+02:00 2023-07-01 14:30:00     Race   \n",
      "10  2023-07-08 15:00:00+01:00 2023-07-08 14:00:00     Race   \n",
      "11  2023-07-22 16:00:00+02:00 2023-07-22 14:00:00     Race   \n",
      "12  2023-07-29 17:05:00+02:00 2023-07-29 15:05:00     Race   \n",
      "13  2023-08-26 15:00:00+02:00 2023-08-26 13:00:00     Race   \n",
      "14  2023-09-02 16:00:00+02:00 2023-09-02 14:00:00     Race   \n",
      "15  2023-09-16 21:00:00+08:00 2023-09-16 13:00:00     Race   \n",
      "16  2023-09-23 15:00:00+09:00 2023-09-23 06:00:00     Race   \n",
      "17  2023-10-07 20:30:00+03:00 2023-10-07 17:30:00     Race   \n",
      "18  2023-10-21 17:00:00-05:00 2023-10-21 22:00:00     Race   \n",
      "19  2023-10-28 15:00:00-06:00 2023-10-28 21:00:00     Race   \n",
      "20  2023-11-04 15:30:00-03:00 2023-11-04 18:30:00     Race   \n",
      "21  2023-11-18 00:00:00-08:00 2023-11-18 08:00:00     Race   \n",
      "22  2023-11-25 18:00:00+04:00 2023-11-25 14:00:00     Race   \n",
      "\n",
      "                 Session5Date     Session5DateUtc F1ApiSupport  \n",
      "0                         NaT                 NaT         True  \n",
      "1   2023-03-05 18:00:00+03:00 2023-03-05 15:00:00         True  \n",
      "2   2023-03-19 20:00:00+03:00 2023-03-19 17:00:00         True  \n",
      "3   2023-04-02 15:00:00+10:00 2023-04-02 05:00:00         True  \n",
      "4   2023-04-30 15:00:00+04:00 2023-04-30 11:00:00         True  \n",
      "5   2023-05-07 15:30:00-04:00 2023-05-07 19:30:00         True  \n",
      "6   2023-05-28 15:00:00+02:00 2023-05-28 13:00:00         True  \n",
      "7   2023-06-04 15:00:00+02:00 2023-06-04 13:00:00         True  \n",
      "8   2023-06-18 14:00:00-04:00 2023-06-18 18:00:00         True  \n",
      "9   2023-07-02 15:00:00+02:00 2023-07-02 13:00:00         True  \n",
      "10  2023-07-09 15:00:00+01:00 2023-07-09 14:00:00         True  \n",
      "11  2023-07-23 15:00:00+02:00 2023-07-23 13:00:00         True  \n",
      "12  2023-07-30 15:00:00+02:00 2023-07-30 13:00:00         True  \n",
      "13  2023-08-27 15:00:00+02:00 2023-08-27 13:00:00         True  \n",
      "14  2023-09-03 15:00:00+02:00 2023-09-03 13:00:00         True  \n",
      "15  2023-09-17 20:00:00+08:00 2023-09-17 12:00:00         True  \n",
      "16  2023-09-24 14:00:00+09:00 2023-09-24 05:00:00         True  \n",
      "17  2023-10-08 20:00:00+03:00 2023-10-08 17:00:00         True  \n",
      "18  2023-10-22 14:00:00-05:00 2023-10-22 19:00:00         True  \n",
      "19  2023-10-29 14:00:00-06:00 2023-10-29 20:00:00         True  \n",
      "20  2023-11-05 14:00:00-03:00 2023-11-05 17:00:00         True  \n",
      "21  2023-11-18 22:00:00-08:00 2023-11-19 06:00:00         True  \n",
      "22  2023-11-26 17:00:00+04:00 2023-11-26 13:00:00         True  \n",
      "\n",
      "[23 rows x 23 columns]\n"
     ]
    }
   ],
   "source": [
    "#fastf1.Cache.enable_cache('cache_dir')\n",
    "fastf1.Cache.enable_cache('C:/Users/shrey/OneDrive/Documents/Python Scripts/fastf1') \n",
    "schedule  = fastf1.get_event_schedule(2023)\n",
    "print(schedule)"
   ]
  },
  {
   "cell_type": "code",
   "execution_count": 3,
   "metadata": {},
   "outputs": [],
   "source": [
    "session = fastf1.get_event_schedule(2024)"
   ]
  },
  {
   "cell_type": "code",
   "execution_count": null,
   "metadata": {},
   "outputs": [],
   "source": [
    "session.columns\n",
    "years = [2022,2023,2024]"
   ]
  },
  {
   "cell_type": "code",
   "execution_count": 21,
   "metadata": {},
   "outputs": [],
   "source": [
    "ses22 = fastf1.get_session(2022, 'Monaco', 'Race')\n",
    "ses23 = fastf1.get_session(2023, 'Monaco', 'Race')\n",
    "ses24 = fastf1.get_session(2024, 'Monaco', 'Race')\n"
   ]
  },
  {
   "cell_type": "code",
   "execution_count": null,
   "metadata": {},
   "outputs": [],
   "source": [
    "ses22.load(telemetry = False)\n",
    "ses23.load(telemetry = False)\n",
    "ses24.load(telemetry = False)\n"
   ]
  },
  {
   "cell_type": "code",
   "execution_count": null,
   "metadata": {},
   "outputs": [],
   "source": [
    "laps22 = ses22.laps\n",
    "laps23 = ses23.laps\n",
    "laps24 = ses24.laps\n",
    "\n"
   ]
  },
  {
   "cell_type": "code",
   "execution_count": 30,
   "metadata": {},
   "outputs": [],
   "source": [
    "laps22= laps22.assign(Year = 2022)\n",
    "laps23= laps23.assign(Year = 2023)\n",
    "laps24= laps24.assign(Year = 2024)"
   ]
  },
  {
   "cell_type": "code",
   "execution_count": 31,
   "metadata": {},
   "outputs": [],
   "source": [
    "import pandas as pd\n",
    "maindf = pd.concat([laps22,laps23,laps24],ignore_index = True)"
   ]
  },
  {
   "cell_type": "code",
   "execution_count": 34,
   "metadata": {},
   "outputs": [],
   "source": [
    "df_clean = (maindf[~maindf['Deleted']].query(\"TrackStatus =='Green'\").loc[lambda p:p['PitInTime'].isna() & p['PitOutTime'].isna()])"
   ]
  },
  {
   "cell_type": "code",
   "execution_count": null,
   "metadata": {},
   "outputs": [],
   "source": [
    "df_clean = df_clean.dropna(subset)"
   ]
  }
 ],
 "metadata": {
  "kernelspec": {
   "display_name": "base",
   "language": "python",
   "name": "python3"
  },
  "language_info": {
   "codemirror_mode": {
    "name": "ipython",
    "version": 3
   },
   "file_extension": ".py",
   "mimetype": "text/x-python",
   "name": "python",
   "nbconvert_exporter": "python",
   "pygments_lexer": "ipython3",
   "version": "3.11.4"
  }
 },
 "nbformat": 4,
 "nbformat_minor": 2
}
